{
 "cells": [
  {
   "metadata": {},
   "cell_type": "markdown",
   "source": [
    "# Networks: structure, evolution & processes\n",
    "**Internet Analytics - Lab 2**\n",
    "\n",
    "---\n",
    "\n",
    "**Group:** *S*\n",
    "\n",
    "**Names:**\n",
    "\n",
    "* *Adam Cohen*\n",
    "* *Stefan Peters*\n",
    "* *Alexandre Spiess*\n",
    "* *Tom Oliver Martin Vrakking*\n",
    "\n",
    "---\n",
    "\n",
    "#### Instructions\n",
    "\n",
    "*This is a template for part 4 of the lab. Clearly write your answers, comments and interpretations in Markodown cells. Don't forget that you can add $\\LaTeX$ equations in these cells. Feel free to add or remove any cell.*\n",
    "\n",
    "*Please properly comment your code. Code readability will be considered for grading. To avoid long cells of codes in the notebook, you can also embed long python functions and classes in a separate module. Don’t forget to hand in your module if that is the case. In multiple exercises, you are required to come up with your own method to solve various problems. Be creative and clearly motivate and explain your methods. Creativity and clarity will be considered for grading.*"
   ]
  },
  {
   "cell_type": "markdown",
   "metadata": {},
   "source": [
    "---\n",
    "\n",
    "## 2.4 PageRank\n",
    "\n",
    "### 2.4.1 Random Surfer Model\n",
    "\n",
    "#### Exercise 2.12"
   ]
  },
  {
   "cell_type": "code",
   "metadata": {
    "ExecuteTime": {
     "end_time": "2025-03-25T18:55:14.472443Z",
     "start_time": "2025-03-25T18:55:14.362409Z"
    }
   },
   "source": [
    "### Answers to the question:\n",
    "# The random surfer never visits nodes 4, 5, 6 & 7. This breaks the PageRank for those nodes (get a score of 0).\n",
    "\n",
    "### Results:\n",
    "# components:\n",
    "# ({0: 0.2848, 1: 0.2847, 2: 0.2847, 3: 0.1458, 4: 0.0, 5: 0.0, 6: 0.0, 7: 0.0})\n",
    "\n",
    "# absorbing:\n",
    "#  ({0: 0.1477, 1: 0.3642, 4: 0.1495, 2: 0.132, 3: 0.2066})\n",
    "\n",
    "### Code:\n",
    "\n",
    "\n",
    "# Import our own methods, they are in a separate file as they're quite long\n",
    "from part4_helper_methods import *\n",
    "\n",
    "\n",
    "def random_surfer(G, num_steps=10000): # I hardcoded the number of steps, sue me :p\n",
    "    nodes = list(G.nodes())\n",
    "    visit_count = {node: 0 for node in G.nodes()}\n",
    "    current_node = np.random.choice(G.nodes())\n",
    "\n",
    "    for _ in range(num_steps):\n",
    "        visit_count[current_node] += 1\n",
    "        neighbors = list(G.successors(current_node))\n",
    "        if neighbors:\n",
    "            current_node = np.random.choice(neighbors)\n",
    "        else:\n",
    "            current_node = np.random.choice(nodes)\n",
    "\n",
    "    total_visits = sum(visit_count.values()) # TODO remove the assignment? Python is weird...\n",
    "    pagerank = {node: count / num_steps for node, count in visit_count.items()}\n",
    "    return visit_count, pagerank\n",
    "\n",
    "random_surfer(load_graph(\"../../ix-lab2-files-2025/data/components.graph\"))\n"
   ],
   "outputs": [
    {
     "data": {
      "text/plain": [
       "({0: 2862, 1: 2862, 2: 2862, 3: 1414, 4: 0, 5: 0, 6: 0, 7: 0},\n",
       " {0: 0.2862, 1: 0.2862, 2: 0.2862, 3: 0.1414, 4: 0.0, 5: 0.0, 6: 0.0, 7: 0.0})"
      ]
     },
     "execution_count": 45,
     "metadata": {},
     "output_type": "execute_result"
    }
   ],
   "execution_count": 45
  },
  {
   "cell_type": "markdown",
   "metadata": {},
   "source": [
    "#### Exercise 2.13"
   ]
  },
  {
   "cell_type": "code",
   "metadata": {
    "ExecuteTime": {
     "end_time": "2025-03-25T18:53:22.633264Z",
     "start_time": "2025-03-25T18:53:21.651982Z"
    }
   },
   "source": [
    "### Answers to the question:\n",
    "# Once we add random restarts and deal with dangling nodes, every node in the graph can be reached eventually, and no node has zero PageRank.\n",
    "# So yes it makes intuitive sense!\n",
    "\n",
    "### Results:\n",
    "# components:\n",
    "# {0: 0.14117, 1: 0.13796, 2: 0.14318, 3: 0.0778, 4: 0.13783, 5: 0.07721, 6: 0.14381, 7: 0.14104}\n",
    "\n",
    "# absorbing:\n",
    "# {0: 0.14846, 1: 0.33943, 4: 0.14854, 2: 0.14939, 3: 0.21418}\n",
    "\n",
    "### Code:\n",
    "\n",
    "def random_surfer(G, num_steps=100000, alpha=0.15):\n",
    "    visit_count = {node: 0 for node in G.nodes()}\n",
    "    nodes = list(G.nodes())\n",
    "    current_node = np.random.choice(nodes)\n",
    "\n",
    "    for _ in range(num_steps):\n",
    "        visit_count[current_node] += 1\n",
    "        if np.random.rand() < alpha or len(list(G.successors(current_node))) == 0:\n",
    "            current_node = np.random.choice(G.nodes())  # random restart\n",
    "        else:\n",
    "            current_node = np.random.choice(list(G.successors(current_node)))\n",
    "    \n",
    "    # Normalization to get PageRank scores\n",
    "    pagerank_scores = {node: count / num_steps for node, count in visit_count.items()}\n",
    "    return pagerank_scores\n",
    "\n",
    "random_surfer(load_graph(\"../../ix-lab2-files-2025/data/components.graph\"))\n"
   ],
   "outputs": [
    {
     "data": {
      "text/plain": [
       "{0: 0.14111,\n",
       " 1: 0.13898,\n",
       " 2: 0.14254,\n",
       " 3: 0.07795,\n",
       " 4: 0.13796,\n",
       " 5: 0.07821,\n",
       " 6: 0.14273,\n",
       " 7: 0.14052}"
      ]
     },
     "execution_count": 10,
     "metadata": {},
     "output_type": "execute_result"
    }
   ],
   "execution_count": 10
  },
  {
   "cell_type": "markdown",
   "metadata": {},
   "source": [
    "---\n",
    "\n",
    "### 2.4.2 Power Iteration Method\n",
    "\n",
    "#### Exercise 2.14: Power Iteration method"
   ]
  },
  {
   "metadata": {
    "ExecuteTime": {
     "end_time": "2025-03-25T18:50:58.967493Z",
     "start_time": "2025-03-25T18:50:58.159682Z"
    }
   },
   "cell_type": "code",
   "source": [
    "### Answers to the question:\n",
    "# Top 10 nodes:\n",
    "# Node 5210 (\"United States\") => rank = 0.007460\n",
    "# Node 5201 (\"United Kingdom\") => rank = 0.005165\n",
    "# Node 2034 (\"France\") => rank = 0.004987\n",
    "# Node 1890 (\"Europe\") => rank = 0.004470\n",
    "# Node 2168 (\"Germany\") => rank = 0.003953\n",
    "# Node 1811 (\"England\") => rank = 0.003841\n",
    "# Node 5477 (\"World War II\") => rank = 0.003712\n",
    "# Node 2999 (\"Latin\") => rank = 0.003599\n",
    "# Node 2619 (\"India\") => rank = 0.003584\n",
    "# Node 1818 (\"English language\") => rank = 0.003371\n",
    "\n",
    "### Code:\n",
    "\n",
    "G = load_graph_adj_matrix(\"../../ix-lab2-files-2025/data/wikipedia.graph\")\n",
    "\n",
    "# Calculate PageRank\n",
    "scores = power_iteration(G, alpha=0.85)\n",
    "\n",
    "top10 = sorted(scores.items(), key=lambda x: x[1], reverse=True)[:10]\n",
    "print(\"Top 10 nodes:\")\n",
    "\n",
    "# Used to get the title of the nodes instead of their ID\n",
    "title_map = load_titles(\"../../ix-lab2-files-2025/data/wikipedia_titles.tsv\")\n",
    "\n",
    "for node_id, rank in top10:\n",
    "    title = title_map.get(node_id, \"Unknown page\") # Deal with unknown pages because we're fancy\n",
    "    print(f\"Node {node_id} (\\\"{title}\\\") => rank = {rank:.6f}\")\n"
   ],
   "outputs": [
    {
     "name": "stdout",
     "output_type": "stream",
     "text": [
      "Top 10 nodes:\n",
      "Node 5210 (\"United States\") => rank = 0.007460\n",
      "Node 5201 (\"United Kingdom\") => rank = 0.005165\n",
      "Node 2034 (\"France\") => rank = 0.004987\n",
      "Node 1890 (\"Europe\") => rank = 0.004470\n",
      "Node 2168 (\"Germany\") => rank = 0.003953\n",
      "Node 1811 (\"England\") => rank = 0.003841\n",
      "Node 5477 (\"World War II\") => rank = 0.003712\n",
      "Node 2999 (\"Latin\") => rank = 0.003599\n",
      "Node 2619 (\"India\") => rank = 0.003584\n",
      "Node 1818 (\"English language\") => rank = 0.003371\n"
     ]
    }
   ],
   "execution_count": 3
  },
  {
   "cell_type": "markdown",
   "metadata": {},
   "source": [
    "---\n",
    "\n",
    "### 2.4.3 Gaming the system *(Bonus)*\n",
    "\n",
    "#### Exercise 2.15 *(Bonus)*"
   ]
  },
  {
   "metadata": {
    "ExecuteTime": {
     "end_time": "2025-03-25T18:51:00.483025Z",
     "start_time": "2025-03-25T18:50:58.980626Z"
    }
   },
   "cell_type": "code",
   "source": [
    "# Answers to the question:\n",
    "# Original PageRank: 0.000098\n",
    "# Improved PageRank: 0.004660\n",
    "\n",
    "# Explanation:\n",
    "# To boost the PageRank of a page, you need to get as many high-ranking pages to link to it as possible.\n",
    "# This makes intuitive sense because PageRank is heavily influenced by incoming links from already high-ranked nodes.\n",
    "\n",
    "# Implementation:\n",
    "# Disclaimer: github copilot was used to debug and test the code\n",
    "\n",
    "# 1) Compute all the PageRank scores for the nodes in the graph.\n",
    "# 2) Select the 300 top nodes by PageRank score.\n",
    "# 3) Add edges from each of these nodes to the \"History of mathematics\".\n",
    "# 4) Recompute the PageRank scores.\n",
    "\n",
    "# Code:\n",
    "\n",
    "\n",
    "G = load_graph2('../../ix-lab2-files-2025/data/wikipedia.graph')\n",
    "titles = load_titles('../../ix-lab2-files-2025/data/wikipedia_titles.tsv')\n",
    "\n",
    "# Find the node ID for \"History of mathematics\"\n",
    "target_node_id = None\n",
    "for idx, text in titles.items():\n",
    "    if text.strip() == \"History of mathematics\":\n",
    "        target_node_id = str(idx)  # Because G has string nodes\n",
    "        break\n",
    "\n",
    "# Don't ask why I had this, the debugging of this was intense...\n",
    "if target_node_id is None:\n",
    "    raise ValueError(\"Could not find 'History of mathematics' in titles!\")\n",
    "\n",
    "# Game the PageRank by adding 300 edges from the top-ranked nodes to History of mathematics\n",
    "original_score, improved_score = game_pagerank(G, target_node_id, 300)\n",
    "print(f\"Original PageRank: {original_score:.6f}\")\n",
    "print(f\"Improved PageRank: {improved_score:.6f}\")\n"
   ],
   "outputs": [
    {
     "name": "stdout",
     "output_type": "stream",
     "text": [
      "Original PageRank: 0.000098\n",
      "Improved PageRank: 0.004660\n"
     ]
    }
   ],
   "execution_count": 4
  }
 ],
 "metadata": {
  "kernelspec": {
   "display_name": "Python 3 (ipykernel)",
   "language": "python",
   "name": "python3"
  },
  "language_info": {
   "codemirror_mode": {
    "name": "ipython",
    "version": 3
   },
   "file_extension": ".py",
   "mimetype": "text/x-python",
   "name": "python",
   "nbconvert_exporter": "python",
   "pygments_lexer": "ipython3",
   "version": "3.10.16"
  },
  "widgets": {
   "application/vnd.jupyter.widget-state+json": {
    "state": {},
    "version_major": 2,
    "version_minor": 0
   }
  }
 },
 "nbformat": 4,
 "nbformat_minor": 4
}
