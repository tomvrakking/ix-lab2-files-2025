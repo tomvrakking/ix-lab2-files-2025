{
 "cells": [
  {
   "cell_type": "markdown",
   "metadata": {},
   "source": [
    "# Networks: structure, evolution & processes\n",
    "**Internet Analytics - Lab 2**\n",
    "\n",
    "---\n",
    "\n",
    "**Group:** S\n",
    "\n",
    "**Names:**\n",
    "\n",
    "* Adam Cohen\n",
    "* Stefan Peters\n",
    "* Alexandre Spiess\n",
    "* Tom Oliver Martin Vrakking\n",
    "---\n",
    "\n",
    "#### Instructions\n",
    "\n",
    "*This is a template for part 2 of the lab. Clearly write your answers, comments and interpretations in Markodown cells. Don't forget that you can add $\\LaTeX$ equations in these cells. Feel free to add or remove any cell.*\n",
    "\n",
    "*Please properly comment your code. Code readability will be considered for grading. To avoid long cells of codes in the notebook, you can also embed long python functions and classes in a separate module. Don’t forget to hand in your module if that is the case. In multiple exercises, you are required to come up with your own method to solve various problems. Be creative and clearly motivate and explain your methods. Creativity and clarity will be considered for grading.*"
   ]
  },
  {
   "cell_type": "markdown",
   "metadata": {},
   "source": [
    "---\n",
    "\n",
    "## 2.2 Network sampling\n",
    "\n",
    "#### Exercise 2.7: Random walk on the Facebook network"
   ]
  },
  {
   "cell_type": "code",
   "execution_count": 1,
   "metadata": {},
   "outputs": [],
   "source": [
    "# Imports\n",
    "import requests\n",
    "import random"
   ]
  },
  {
   "cell_type": "code",
   "execution_count": 2,
   "metadata": {},
   "outputs": [],
   "source": [
    "# API Setup\n",
    "HOSTNAME = 'http://iccluster031.iccluster.epfl.ch'\n",
    "URL_TEMPLATE = HOSTNAME + ':5050/v1.0/facebook?user={user_id}'"
   ]
  },
  {
   "cell_type": "code",
   "execution_count": 3,
   "metadata": {},
   "outputs": [],
   "source": [
    "# Function to get user data\n",
    "def get_user_data(user_id):\n",
    "\n",
    "    # Follow \"ix-lab2-helper\" method for the API\n",
    "    url = URL_TEMPLATE.format(user_id=user_id)\n",
    "    response = requests.get(url)\n",
    "\n",
    "    # Check for errors\n",
    "    if response.status_code != 200:\n",
    "        print(f\"Error: Unable to fetch data for user {user_id}\")\n",
    "        return None\n",
    "\n",
    "    # Return the data associated to the given user_id\n",
    "    data = response.json()\n",
    "    return data"
   ]
  },
  {
   "cell_type": "markdown",
   "metadata": {},
   "source": [
    "#### Algorithm 2.1: Random walker on Facebook\n",
    "\n",
    "**Require:** Source node `s`, number of nodes `N`\n",
    "\n",
    "Set `u ← s` (start from the source node)\n",
    "\n",
    "Initialize `i = 0`\n",
    "\n",
    "**While** `i < N` **do**:\n",
    "   - Get the age of node `u`\n",
    "   - Select node `v` uniformly at random from the neighborhood of `u`\n",
    "   - Set `u ← v` (move to the next node)\n",
    "   - Increment `i ← i + 1`\n",
    "\n",
    "**End** **while**\r\n"
   ]
  },
  {
   "cell_type": "code",
   "execution_count": 12,
   "metadata": {},
   "outputs": [],
   "source": [
    "# Function for average age\n",
    "def estimate_average_age(start_user, num_steps):\n",
    "\n",
    "    # Initialize variables using parameters\n",
    "    visited_users = set()\n",
    "    ages = []\n",
    "    current_user = start_user\n",
    "\n",
    "    # Random Walk approach of Algorithm 2.1\n",
    "    for _ in range(num_steps):\n",
    "\n",
    "        # Get user data (check existence)\n",
    "        user_data = get_user_data(current_user)\n",
    "        if not user_data:\n",
    "            break\n",
    "        age = user_data.get(\"age\")\n",
    "        friends = user_data.get(\"friends\", [])\n",
    "\n",
    "        # Add age and user to list\n",
    "        if age is not None and current_user not in visited_users:\n",
    "            ages.append(age)\n",
    "            visited_users.add(current_user)\n",
    "\n",
    "        # Choose the user at random in the list of friends\n",
    "        next_user = random.choice(friends) \n",
    "        current_user = next_user\n",
    "\n",
    "    # Calculate and return average age\n",
    "    avg_age = sum(ages) / len(ages) if ages else 0\n",
    "    return avg_age, len(visited_users)"
   ]
  },
  {
   "cell_type": "code",
   "execution_count": 33,
   "metadata": {},
   "outputs": [
    {
     "name": "stdout",
     "output_type": "stream",
     "text": [
      "Estimated Average Age: 21.444395149364095\n",
      "Users Visited: 6762\n"
     ]
    }
   ],
   "source": [
    "# Running the estimation (num_steps can be adjusted to look for optimal result)\n",
    "start_user = \"a5771bce93e200c36f7cd9dfd0e5deaa\"\n",
    "num_steps = 10000\n",
    "\n",
    "# Retrive average age and number of distinct user visited\n",
    "estimated_avg_age, users_visited = estimate_average_age(start_user, num_steps)\n",
    "\n",
    "print(f\"Estimated Average Age: {estimated_avg_age}\")\n",
    "print(f\"Users Visited: {users_visited}\")"
   ]
  },
  {
   "cell_type": "markdown",
   "metadata": {},
   "source": [
    "**Some explanations:** The number of user visited will likely always be under num_steps because the algorithm regularly comes back on it's steps, when finding someone with only one friend mostly. After running the code a lot of times, the average age was always between 20 and ~24, even when changing num_steps drastically. We decided to keep a final num_step at 10'000 to be sure that we were not restrained by this parameter."
   ]
  },
  {
   "cell_type": "markdown",
   "metadata": {},
   "source": [
    "#### Exercise 2.8"
   ]
  },
  {
   "cell_type": "markdown",
   "metadata": {
    "collapsed": true,
    "jupyter": {
     "outputs_hidden": true
    }
   },
   "source": [
    "Part 1: \n",
    "\n",
    "As we have seen in exercise 2.7, our estimated age is way under the real one published by facebook, around 20~23 against 45. This discrepancy is of the scale of 50%, so we can confidently say that following the 2.1 Algrorithm is not the most efficient way to get a correct approximate."
   ]
  },
  {
   "cell_type": "markdown",
   "metadata": {},
   "source": [
    "Part 2:\n",
    "\n",
    "This can be caused by three major reasons :\n",
    "* Small sample size (num_step is not big enough)\n",
    "* Degree bias : Younger users having more friend on average than older ones so the algorithm gets attracted by younger users, failing to give a correct average.\n",
    "* Graph structure bias: Facebook (like other social-networks) has age-based communities, so the random walk might take a long time to escape if starting from a specific one.\n",
    "\n",
    "In our code we went up to a sample size of 50000 without much (any) change. So this is not the aspect we will be focusing on in part 3. \n",
    "\n",
    "The degree bias and graph structure bias are more likely the cause of our results. Indeed, we start with a user of 13 years old, so we are likely stuck at first and then always attracted back to young users."
   ]
  },
  {
   "cell_type": "markdown",
   "metadata": {},
   "source": [
    "Part 3:\n",
    "\n",
    "By following the algorithm studied in class, we got a better result, since now there is almost no difference between our result and the study published by Facebook.\n",
    "\n",
    "The algorithm consist to compensate the bias towards high-degree nodes by weighting the age with 1/degree.\n",
    "\n",
    "The final average is computed as:\r\n",
    "$$\r\n",
    "\\hat{F}_{RW} = \\frac{\\sum_{t} \\frac{f(X_t)}{d(X_t)}}{\\sum_{t} \\frac{1}{d(X_t)}}\r\n",
    "$$\r\n",
    "\r\n",
    "where:\r\n",
    "- \\( f(X_t) \\) is the node statistic (e.g., age) at time \\( t \\),\r\n",
    "- \\( d(X_t) \\) is the degree of the node at time \\( t \\). t \\).\r\n"
   ]
  },
  {
   "cell_type": "code",
   "execution_count": 4,
   "metadata": {},
   "outputs": [],
   "source": [
    "# Function for average age with bias correction using weighted estimator\n",
    "def estimate_average_age_wbc(start_user, num_steps):\n",
    "    \n",
    "    # Initialize variables using parameters\n",
    "    visited_users = set()\n",
    "    weighted_ages = []\n",
    "    weighted_counts = []\n",
    "    current_user = start_user\n",
    "\n",
    "    # Modified random walk approach with degree weighting\n",
    "    for _ in range(num_steps):\n",
    "        \n",
    "        # Get user data (check existence)\n",
    "        user_data = get_user_data(current_user)\n",
    "        if not user_data:\n",
    "            break\n",
    "        age = user_data.get(\"age\")\n",
    "        friends = user_data.get(\"friends\", [])\n",
    "        degree = len(friends)\n",
    "\n",
    "        # Add weighted age contribution\n",
    "        if age is not None and degree > 0:\n",
    "            weighted_ages.append(age / degree)  # Normalize by degree\n",
    "            weighted_counts.append(1 / degree)  # Weight for normalization\n",
    "\n",
    "        # Choose the next user based on random walk\n",
    "        current_user = random.choice(friends)\n",
    "        \n",
    "    # Compute weighted average to correct degree bias\n",
    "    avg_age = sum(weighted_ages) / sum(weighted_counts) if weighted_counts else 0\n",
    "    return avg_age"
   ]
  },
  {
   "cell_type": "code",
   "execution_count": 5,
   "metadata": {},
   "outputs": [
    {
     "name": "stdout",
     "output_type": "stream",
     "text": [
      "Estimated Average Age: 43.977264258812774\n"
     ]
    }
   ],
   "source": [
    "# Running the estimation (num_steps can be adjusted to look for optimal result)\n",
    "start_user = \"a5771bce93e200c36f7cd9dfd0e5deaa\"\n",
    "num_steps = 10000\n",
    "\n",
    "# Retrive average age and number of distinct user visited\n",
    "estimated_avg_age = estimate_average_age_wbc(start_user, num_steps)\n",
    "\n",
    "print(f\"Estimated Average Age: {estimated_avg_age}\")"
   ]
  }
 ],
 "metadata": {
  "kernelspec": {
   "display_name": "Python 3 (ipykernel)",
   "language": "python",
   "name": "python3"
  },
  "language_info": {
   "codemirror_mode": {
    "name": "ipython",
    "version": 3
   },
   "file_extension": ".py",
   "mimetype": "text/x-python",
   "name": "python",
   "nbconvert_exporter": "python",
   "pygments_lexer": "ipython3",
   "version": "3.11.5"
  }
 },
 "nbformat": 4,
 "nbformat_minor": 4
}
